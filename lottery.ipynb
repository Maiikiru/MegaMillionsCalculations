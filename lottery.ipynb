{
 "cells": [
  {
   "cell_type": "markdown",
   "metadata": {},
   "source": [
    "# Mega Millions Lottery Calculations\n",
    "\n",
    "**Disclaimer: I am not promoting nor endorsing gambling. The results here are purely for mathmatical understanding**\n",
    "\n",
    "\n",
    "## Introduction:\n",
    "The Mega Millions is a popular lottery game played in 45 states. The rules of the game are simple:\n",
    "- Pick 5 balls without repeat from 1-70\n",
    "- Pick a \"Mega Ball\" from 1-25.\n",
    "\n",
    "Here is an example of a Mega Million drawing: <br>\n",
    "[![An example of the Mega Million Lottery Drawing](https://img.youtube.com/vi/Zf42ebKP3mA/0.jpg)](https://www.youtube.com/watch?v=Zf42ebKP3mA)\n",
    "\n",
    "What we aim to do today is analyze this game and find compute some interesting results.\n",
    "\n",
    "<figure>\n",
    "  <img src=\"/images/lets-go-gambling.webp\" alt=\"Guy gambling\" style=\"width:50%\">\n",
    "  <figcaption>Source: <a href=\"https://tenor.com/view/lets-go-gambling-gif-3937562841362806777\"> Tenor</a> </figcaption>\n",
    "</figure>"
   ]
  },
  {
   "cell_type": "markdown",
   "metadata": {},
   "source": [
    "## TLDR Results:\n",
    "### Lottery Calculations:\n",
    "| Event            \t| Probability \t| Percentage   \t|\n",
    "|------------------\t|-------------\t|--------------\t|\n",
    "| Jackpot          \t| 3.304962e-9 \t| 3.304962e-7% \t|\n",
    "| 5 Balls, No Mega \t| 7.931909e-8 \t| 7.931909e-6% \t|\n",
    "| 4 Balls, Mega    \t| 1.074113e-6 \t| 1.074113e-4% \t|\n",
    "| 4 Balls, No Mega \t| 2.577870e-5 \t| 2.577870-3%  \t|\n",
    "| 3 Balls, Mega    \t| 6.874432e-5 \t| 6.874432e-3% \t|\n",
    "| 3 Balls, No Mega \t| 1.649837e-3 \t| 1.649837e-1% \t|\n",
    "| 2 Balls, Mega    \t| 1.443607e-3 \t| 1.443607e-1% \t|\n",
    "| 1 Ball, Mega     \t| 1.118796e-2 \t| 1.118796%    \t|\n",
    "| Mega Ball Only   \t| 2.729861e-2 \t| 2.729861%    \t|\n",
    "\n",
    "### Analysis\n",
    "- Probability of winning anything: 95.8324306242948%\n",
    "- Probability of winning nothing: 4.1675693757052%\n",
    "- Probability of winning $100.00 or more: 0.0095679757052%\n",
    "- Sample mean is (average jackpot amount): $281,192,307.69\n",
    "- With a $281 Million dollar jackpot, the expected return on every ticket is:\n",
    "    - $1.18 with 0% tax.\n",
    "    - $0.71 with 40% tax.\n",
    "    - $0.47 with 60% tax.\n",
    "- For the expected return to exceed the ticket price ($2), the jackpot must be greater than:\n",
    "    - $530 Million with 0% tax.\n",
    "    - $933 Million with 40% tax.\n",
    "    - $1.4 Billion with 60% tax.\n",
    "- Tickets needed for XX% chance of winning the jackpot:\n",
    "    - 1,393,410,944 tickets for 99%. \n",
    "    - 906,434,717 tickets for 95.0%. \n",
    "    - 419,458,491 tickets for 75.0%. \n",
    "    - 277,246,982 tickets for 60.0%. \n",
    "    - 31,879,495 tickets for 10.0%.\n",
    "- With multiple winners, with 500,000,000 tickets, the expected winnings would be:\n",
    "    - $254,394,154.40 with 0% tax.\n",
    "    - $152,636,492.64 with 40% tax.\n",
    "    - $101,757,661.76 with 60% tax.\n",
    "\n",
    "\n",
    "That was a lot of numbers.\n",
    "\n",
    "<figure>\n",
    "  <img src=\"/images/stewie_losing_mind.webp\" alt=\"Baby going crazy.\" style=\"width:25%\">\n",
    "  <figcaption>Source: <a href=\"https://giphy.com/gifs/family-guy-fox-family-guy-foxtv-3o6ZtaiPZNzrmRQ6YM\"> Giphy</a> </figcaption>\n",
    "</figure>\n"
   ]
  },
  {
   "cell_type": "markdown",
   "metadata": {},
   "source": [
    "## Lottery Calculations:"
   ]
  },
  {
   "cell_type": "markdown",
   "metadata": {},
   "source": [
    "### 5 Balls and Mega Ball (Jackpot)\n",
    "Let us first compute the total number of possible combinations:\n",
    "\n",
    "$$ {70 \\choose 5} * \\frac{1}{25} =  302,575,350 $$\n",
    "\n",
    "We will be using this number as the total number of combinations from now on.\n",
    "Since we assume that each combination is equally likely, we may compute probabilities by computing\n",
    "\n",
    "$$ \\frac{\\text{Favorable Outcomes}}{\\text{Total Outcomes}}$$\n",
    "\n",
    "Obviously, there is only 1 way to win it all, and so the jackpot probability is\n",
    "\n",
    "$$ \\frac{1}{302,575,350} \\approx 3.304962\\mathrm{e}{-9} = 3.304962\\mathrm{e}{-7}\\%$$\n",
    "\n",
    "Which is 1 in 302,575,350.\n",
    "\n",
    "You know it's bad when you have to write the probability in scientific notation."
   ]
  },
  {
   "cell_type": "markdown",
   "metadata": {},
   "source": [
    "### 5 Balls, no Mega Ball\n",
    "The math in this case is very similar, except we choose the wrong mega ball and since there is 24 ways to pick the wrong mega ball, the probability of winning is\n",
    "\n",
    "$$ \\frac{24}{302,575,350} \\approx 7.931909 \\mathrm{e}{-8} = 7.931909 \\mathrm{e}{-6}\\%$$\n",
    "\n",
    "Or approximately 1 in 12,607,306.25\n"
   ]
  },
  {
   "cell_type": "markdown",
   "metadata": {},
   "source": [
    "### 4 Balls, Mega Ball\n",
    "Here is where it gets *slightly* more complicated (at least for me).\n",
    "\n",
    "We need to compute the number of winning outcomes of picking exactly 4 correct balls out of 5.\n",
    "\n",
    "How can we do this systematically?\n",
    "\n",
    "Think of it this way:\n",
    "Let us fix some selection of 5 balls out of 70. Next let us choose 4 out of 5 of that fixed selection and then pick one of the 65 incorrectly. Furthermore, pick the correct Mega Ball.\n",
    "Hence, we get the following:\n",
    "\n",
    "$$ \\frac{{5 \\choose 4} * {65 \\choose 1 } * 1}{302,575,350} = \\frac{5*65}{302,575,350} \\approx 1.074113\\mathrm{e}{-6} = 1.074113\\mathrm{e}{-4} \\%$$\n",
    "\n",
    "Or approximately 1 in 931001.08"
   ]
  },
  {
   "cell_type": "markdown",
   "metadata": {},
   "source": [
    "### 4 Balls, No Mega Ball\n",
    "Again, we can do the same math, but this time with picking the wrong mega ball.\n",
    "\n",
    "$$ \\frac{{5 \\choose 4} * {65 \\choose 1 } * 24}{302,575,350} = \\frac{5*65 * 24}{302,575,350} \\approx 2.577870\\mathrm{e}{-5} = 2.577870\\mathrm{e}{-3} \\%$$\n",
    "\n",
    "Or approximately 1 in 38791.71"
   ]
  },
  {
   "cell_type": "markdown",
   "metadata": {},
   "source": [
    "### 3 Balls, Mega Ball\n",
    "We may continue with the same process, except this time, we need to choose 2 wrong balls.\n",
    "\n",
    "This is not that much different from 4 except we need to choose 2 this time instead of 1.\n",
    "Hence,\n",
    "\n",
    "$$ \\frac{{5 \\choose 3} * {65 \\choose 2 } * 1}{302,575,350} = \\frac{10*2080}{302,575,350} \\approx 6.874432\\mathrm{e}{-5} = 6.874432\\mathrm{e}{-3} \\%$$\n",
    "\n",
    "Or approximately 1 in 14,546.89"
   ]
  },
  {
   "cell_type": "markdown",
   "metadata": {},
   "source": [
    "### 3 Balls, No Mega Ball\n",
    "Same procedure as above, just multiply by 24 because we choose the wrong mega ball.\n",
    "\n",
    "$$ \\frac{{5 \\choose 3} * {65 \\choose 2 } * 24}{302,575,350} = \\frac{10*2080 * 24}{302,575,350} \\approx 1.649837\\mathrm{e}{-3} = 1.649837\\mathrm{e}{-1} \\%$$\n",
    "\n",
    "Or approximately 1 in 606.12"
   ]
  },
  {
   "cell_type": "markdown",
   "metadata": {},
   "source": [
    "### 2 Balls, Mega Ball\n",
    "You get the drill by now.\n",
    "\n",
    "$$ \\frac{{5 \\choose 2} * {65 \\choose 3 } * 1}{302,575,350} = \\frac{10*43,680 * 1}{302,575,350} \\approx 1.443607\\mathrm{e}{-3} = 1.443607\\mathrm{e}{-1} \\%$$\n",
    "\n",
    "Or approximately, 1 in 692.71"
   ]
  },
  {
   "cell_type": "markdown",
   "metadata": {},
   "source": [
    "### 1 Ball, Mega Ball\n",
    "\n",
    "$$ \\frac{{5 \\choose 1} * {65 \\choose 4 } * 1}{302,575,350} = \\frac{5*677,040 * 1}{302,575,350} \\approx 1.118796\\mathrm{e}{-2} = 1.118796\\%$$\n",
    "\n",
    "Or approximately 1 in 89.38"
   ]
  },
  {
   "cell_type": "markdown",
   "metadata": {},
   "source": [
    "### Mega Ball Only.\n",
    "\n",
    "$$ \\frac{{5 \\choose 0} * {65 \\choose 5} * 1}{302,575,350} = \\frac{1*8,259,888 * 1}{302,575,350} \\approx 2.729861\\mathrm{e}{-2} = 2.729861\\% $$\n",
    "\n",
    "Or approximately 1 in 36.63"
   ]
  },
  {
   "cell_type": "markdown",
   "metadata": {},
   "source": [
    "In conclusion, you have terrible odds of winning anything, but lets compute some more interesting things.\n",
    "\n",
    "These numbers were cross references with the official Mega Millions site [1] and Durango Bill's calculations [2]"
   ]
  },
  {
   "cell_type": "markdown",
   "metadata": {},
   "source": [
    "## Computation of Interesting topics:\n",
    "From this point forwards, I will assume that you know a little bit of probability theory, and a bit of python as there is a lot of notation that gets thrown around."
   ]
  },
  {
   "cell_type": "markdown",
   "metadata": {},
   "source": [
    "### How much would the jackpot have to be in order for the Mega Millions to be a good game to play?\n",
    "Let us define a couple of things:\n",
    "Let us define our event space of interest as \n",
    "\n",
    "$$ E = \\\\{ 5BM, 5B, 4BM,4B,3BM, 3B, 2BM, 1BM, M \\\\} \\subset \\mathcal{P}({\\Omega})$$\n",
    "\n",
    "With 5BM = 5 Balls, Mega Ball; 5B = 5 Balls, No Mega Ball, etc.\n",
    "\n",
    "Next, let us define a random variable X over omega as the following:\n",
    "\n",
    "$$\n",
    "X =\n",
    "    \\begin{cases}\n",
    "        w & \\text{if } 5BM \\\\\n",
    "        1,000,000 & \\text{if } 5B\\\\\n",
    "        10,000 & \\text{if } 4BM\\\\\n",
    "        500 & \\text{if } 4B\\\\\n",
    "        200 & \\text{if } 3BM\\\\\n",
    "        10 & \\text{if } 3B\\\\\n",
    "        10 & \\text{if } 2BM\\\\\n",
    "        4 & \\text{if } 1BM\\\\\n",
    "        2 & \\text{if } 1M\\\\\n",
    "    \\end{cases}\n",
    "$$\n",
    "\n",
    "where w is the jackpot winning amount"
   ]
  },
  {
   "cell_type": "code",
   "execution_count": 2,
   "metadata": {},
   "outputs": [],
   "source": [
    "w = None\n",
    "\n",
    "pmf:dict = {\n",
    "    # w: 3.304962e-9,\n",
    "    1_000_000: 7.931909e-8,\n",
    "    10_000: 1.074113e-6,\n",
    "    500: 2.577870e-5,\n",
    "    200: 6.874432e-5,\n",
    "    10: 1.649837e-3 + 1.443607e-3, # Because these are mapped to the same value, we clobber the old value, thus, we must add.\n",
    "    4: 1.118796e-2,\n",
    "    2: 2.729861e-2\n",
    "}\n",
    "\n",
    "# Add the jackpot value in there.\n",
    "if w in pmf:\n",
    "    pmf[w] += 3.304962e-9\n",
    "else:\n",
    "    pmf[w] = 3.304962e-9\n",
    "\n",
    "def cvt_perc(num:float) -> str:\n",
    "    return str(num * 100)+\"%\"\n",
    "\n",
    "def cvt_money(num:float) -> str:\n",
    "    return \"${:,.2f}\".format(num)\n"
   ]
  },
  {
   "cell_type": "markdown",
   "metadata": {},
   "source": [
    "### How likely are you to even win anything?\n",
    "\n",
    "Then since the events are mutrally disjoint, we want to compute:\n",
    "\n",
    "$$ \\sum_i \\mathbb{P}(X = E_i)  \\ \\forall E_i \\in E$$\n",
    "\n",
    "If we ignore the fancy notation, we are basically just saying how likely is it to win anything?"
   ]
  },
  {
   "cell_type": "code",
   "execution_count": 3,
   "metadata": {},
   "outputs": [
    {
     "name": "stdout",
     "output_type": "stream",
     "text": [
      "Your odds of winning anything is 0.958324306242948 or 95.8324306242948%\n",
      "Your odds of winning nothing is 0.041675693757052 or 4.1675693757052%\n"
     ]
    }
   ],
   "source": [
    "def compute_proba_winning() -> float:\n",
    "    total_prob:float = 0\n",
    "    for proba in pmf.values():\n",
    "        total_prob += proba\n",
    "    return total_prob\n",
    "\n",
    "total_prob:float = compute_proba_winning()\n",
    "\n",
    "print(\"Your odds of winning anything is\",1-total_prob, \"or\",cvt_perc(1-total_prob))\n",
    "print(\"Your odds of winning nothing is\",total_prob, \"or\",cvt_perc(total_prob))"
   ]
  },
  {
   "cell_type": "markdown",
   "metadata": {},
   "source": [
    "### How likely are you to win \"decent\" money?\n",
    "Then we want to compute \n",
    "\n",
    "$$ \\mathbb{P}{(X \\geq m)} = 1 - F(m)$$\n",
    "\n",
    "where m is the amount of money you want to see how likely you are to win. I choose m to be $100, but you can choose any value you consider \"decent\""
   ]
  },
  {
   "cell_type": "code",
   "execution_count": 4,
   "metadata": {},
   "outputs": [
    {
     "name": "stdout",
     "output_type": "stream",
     "text": [
      "Your odds of winning $100.00 or more is 9.5679757052e-05 or 0.0095679757052%\n"
     ]
    }
   ],
   "source": [
    "def compute_proba_gt_val(val:float) -> float:\n",
    "    # We will ASSUME that the jackpot value, is 20 million if not defined\n",
    "    # Source: https://powerball-megamillions.com/how-powerball-megamillions-jackpots-are-calculated\n",
    "    proba:float = 0\n",
    "    for winning_amt in pmf:\n",
    "        if winning_amt is None and 20_000_000 >= val:\n",
    "            proba += pmf[winning_amt]\n",
    "        elif winning_amt is not None and winning_amt >= val:\n",
    "            proba += pmf[winning_amt]\n",
    "    return proba\n",
    "\n",
    "\n",
    "AMOUNT_OF_MONEY_TO_WIN:float = 100.00 # This is m, I just wrote the variable slightly more verbosely.\n",
    "\n",
    "proba: float = compute_proba_gt_val(AMOUNT_OF_MONEY_TO_WIN)\n",
    "print(\"Your odds of winning\",cvt_money(AMOUNT_OF_MONEY_TO_WIN),\"or more is\", proba, \"or\", cvt_perc(proba))"
   ]
  },
  {
   "cell_type": "markdown",
   "metadata": {},
   "source": [
    "### What is the expected return?\n",
    "Let us first assume some conditions to make our lives easier:\n",
    " - There is only one winner\n",
    " - You get all of the money straight up as a lump sum\n",
    " - All the winnings are taxed equally.\n",
    "\n",
    "Well, suppose that the jackpot is the sample average of the last 26 games played, then let us compute the expected return. [4]\n",
    "\n",
    "By definition, $\\mathbb{E}[X]$ is the following:\n",
    "\n",
    "$$ \\mathbb{E}[X] = (1-t) \\sum x \\mathbb{P}(X=x) = (1-t) * [w * \\frac{1}{302,575,350} + 1,000,000 * \\frac{24}{302,575,350} + ... + 2 * \\frac{8,259,888}{302,575,350}]$$\n",
    "\n",
    "<br> where $t \\geq 0$ is the tax rate and w is the jackpot winning amount which we can suppose for this case is the sample average of the last 26 games played.\n",
    "\n",
    "Note that we pulled the probabilities from the derivation above.\n",
    "\n",
    "Then, let us compute the expected return from playing."
   ]
  },
  {
   "cell_type": "code",
   "execution_count": 40,
   "metadata": {},
   "outputs": [
    {
     "name": "stdout",
     "output_type": "stream",
     "text": [
      "Sample mean is (average jackpot amount): $281,192,307.69\n",
      "With 0% tax and a $281,192,307.69 jackpot, the expected return on every ticket is 1.1763118256153846\n",
      "With 40% tax and a $281,192,307.69 jackpot, the expected return on every ticket is 0.7057870953692308\n",
      "With 60% tax and a $281,192,307.69 jackpot, the expected return on every ticket is 0.4705247302461539\n"
     ]
    }
   ],
   "source": [
    "data_millions:float = (233,215,197,181,165,145,129,110,94,77,59,44,28,20,113,95,77,62,42,20,1269,1000,862,760,695,619)\n",
    "sample_avg:float = (sum(data_millions) / len(data_millions)) * 1e6\n",
    "print(\"Sample mean is (average jackpot amount):\",cvt_money(sample_avg))\n",
    "\n",
    "# I will not set w in the pmf because that is a shared variable and might ruin future calculations if\n",
    "# you're not careful, so I will just hard compute is assuming that w is still None.\n",
    "def compute_expectation(jackpot_amt:float, tax_val:float = 0) -> float:\n",
    "    total:float = 0\n",
    "    for value in pmf:\n",
    "        if value is None:\n",
    "            total += (jackpot_amt * pmf[value])\n",
    "        else:\n",
    "            total += (value * pmf[value])\n",
    "    \n",
    "    return total * (1 - tax_val)\n",
    "\n",
    "print(\"With 0% tax and a\",cvt_money(sample_avg),\"jackpot, the expected return on every ticket is\",compute_expectation(sample_avg,0))\n",
    "print(\"With 40% tax and a\",cvt_money(sample_avg),\"jackpot, the expected return on every ticket is\",compute_expectation(sample_avg,0.4))\n",
    "print(\"With 60% tax and a\",cvt_money(sample_avg),\"jackpot, the expected return on every ticket is\",compute_expectation(sample_avg,0.6))"
   ]
  },
  {
   "cell_type": "markdown",
   "metadata": {},
   "source": [
    "<figure>\n",
    "  <img src=\"/images/azusa-money.webp\" alt=\"Girl hypnotized by money\" style=\"width:50%\">\n",
    "  <figcaption>Source: <a href=\"https://tenor.com/view/anime-money-gif-2779446348632709038\"> Tenor</a> </figcaption>\n",
    "</figure>"
   ]
  },
  {
   "cell_type": "markdown",
   "metadata": {},
   "source": [
    "### How big does the jackpot have to be in order for the lottery to be \"worth\" playing?"
   ]
  },
  {
   "cell_type": "markdown",
   "metadata": {},
   "source": [
    "This begs the question, since the expected return with the sample average is so bad, hypothetically, how big *would* the jackpot have to be before the expected return is more than the ticket price? Let us first assume the same assumptions that we made above.\n",
    "\n",
    "Then we want to solve for w such that $\\mathbb{E}[X] > v$\n",
    "<br>Where v is the \"value\" we want to be bigger than. In this case, since the ticket is worth 2 dollars, we set v = 2.\n",
    "\n",
    "<br> Before we solve this inequality, let us first denote s (as in sum) as\n",
    "\n",
    "$$ s = 1,000,000 * \\frac{24}{302,575,350} + ... + v * \\frac{8,259,888}{302,575,350}$$\n",
    "\n",
    "Then with a little rearrangement of the definition, we get the following:\n",
    "\n",
    "$$ (1-t) [\\frac{w}{302,575,350} + s] > v \\implies w > \\frac{v(1-t)}{302,575,350}$$\n",
    "\n",
    "Applying what we have discovered, we will show some results:\n"
   ]
  },
  {
   "cell_type": "code",
   "execution_count": 58,
   "metadata": {},
   "outputs": [
    {
     "name": "stdout",
     "output_type": "stream",
     "text": [
      "Assuming 0% tax the jackpot would have to be $530,420,053.88 in order for the expected return of X to be greater than 2\n",
      "Assuming 40.0% tax the jackpot would have to be $933,853,853.88 in order for the expected return of X to be greater than 2\n",
      "Assuming 60.0% tax the jackpot would have to be $1,438,146,103.88 in order for the expected return of X to be greater than 2\n"
     ]
    }
   ],
   "source": [
    "def compute_gt_val(val:float, tax_val:float = 0) -> float:\n",
    "    assert(val >= 0)\n",
    "    sum_wo_jackpot:float = 0\n",
    "    for value in pmf:\n",
    "        if value is None:\n",
    "            sum_wo_jackpot += pmf[value]\n",
    "        else:\n",
    "            sum_wo_jackpot += (value * pmf[value])\n",
    "    \n",
    "    jackpot:float = ((val / (1-tax_val)) - sum_wo_jackpot) * 302_575_350\n",
    "    return jackpot\n",
    "\n",
    "def print_gt_val(val, tax_val):\n",
    "    tax_adj_jackpot:float = compute_gt_val(val,tax_val)\n",
    "    print(\"Assuming\",cvt_perc(tax_val), \"tax the jackpot would have to be\",\n",
    "            cvt_money(tax_adj_jackpot),\"in order for the expected return of X to be greater than\",val)\n",
    "\n",
    "print_gt_val(2,0)\n",
    "print_gt_val(2,.40)\n",
    "print_gt_val(2,.60)"
   ]
  },
  {
   "cell_type": "markdown",
   "metadata": {},
   "source": [
    "Hence, the answer to our (multi) million dollar question is **530 million** in order for the expected return of the lottery to be greater than 2 (the amount it takes to play).\n",
    "\n",
    "If we (unfortunately) don't live in a tax-free haven, then that number jumps up to nearly **1.4 billion** with a 60% tax!!\n",
    "\n",
    "That's a lot of money!\n",
    "\n",
    "<figure>\n",
    "  <img src=\"/images/shocked.webp\" alt=\"Doll turning shocked\" style=\"width:25%\">\n",
    "  <figcaption>Source: <a href=\"https://giphy.com/gifs/shocked-face-meme-PtZzHZzuSmPCWxS5MJ\"> Giphy</a> </figcaption>\n",
    "</figure>"
   ]
  },
  {
   "cell_type": "markdown",
   "metadata": {},
   "source": [
    "### How many tickets would you have to buy in order to have a 99% chance of winning?\n",
    "Notice that this is a geometric distribution. Where we are trying to find out the probability that we get one success in k trials and we want to find the smallest k such that the cumulative probability is 0.99\n",
    "<br>Note that the CDF of a geometric distribution is the following:\n",
    "\n",
    "$$ F(x) = 1 - (1-p)^x $$\n",
    "\n",
    "where F is the CDF of the geometric distribution.\n",
    "\n",
    "Thus, the inverse (quantile function) would be:\n",
    "\n",
    "$$ F^{-1}(o) = \\left \\lceil{\\frac{\\ln{(1-o)}}{\\ln{(1-p)}}}\\right \\rceil  = \\left \\lceil{\\log_{(1-p)}(1-o) }\\right \\rceil$$\n",
    "\n",
    "where x is the number of trials, o is the probability of success we want. I choose 0.99, but you can change the value to whatever you want inside of the following cell."
   ]
  },
  {
   "cell_type": "code",
   "execution_count": 57,
   "metadata": {},
   "outputs": [
    {
     "name": "stdout",
     "output_type": "stream",
     "text": [
      "You need to buy 1,393,410,944 lottery tickets to get a 99.0% chance of winning the jackpot. \n",
      "You need to buy 906,434,717 lottery tickets to get a 95.0% chance of winning the jackpot. \n",
      "You need to buy 419,458,491 lottery tickets to get a 75.0% chance of winning the jackpot. \n",
      "You need to buy 277,246,982 lottery tickets to get a 60.0% chance of winning the jackpot. \n",
      "You need to buy 209,729,246 lottery tickets to get a 50.0% chance of winning the jackpot. \n",
      "You need to buy 31,879,495 lottery tickets to get a 10.0% chance of winning the jackpot. \n"
     ]
    }
   ],
   "source": [
    "import math\n",
    "def compute_geom_inverse(o:float) -> int:\n",
    "    assert(0 < o < 1)\n",
    "    return math.ceil(math.log(1-o) / math.log(1-pmf[w]))\n",
    "\n",
    "def print_num_tickets_needed(confidence:float) -> None:\n",
    "    result:int = compute_geom_inverse(confidence)\n",
    "    print(f'You need to buy {result:,} lottery tickets to get a {confidence * 100}% chance of winning the jackpot. ')\n",
    "\n",
    "print_num_tickets_needed(0.99)\n",
    "print_num_tickets_needed(0.95)\n",
    "print_num_tickets_needed(0.75)\n",
    "print_num_tickets_needed(0.6)\n",
    "print_num_tickets_needed(0.5)\n",
    "print_num_tickets_needed(0.1)\n"
   ]
  },
  {
   "cell_type": "markdown",
   "metadata": {},
   "source": [
    "### What if there are multiple winners?\n",
    "If we factor into account that the jackpot depends on how many people are playing, and the odds of you winning decreases as you more people play,\n",
    "How much money would you win if there are n tickets in play?\n",
    "\n",
    "The real formula actually uses past information and interpolation to figure out the amount, and it's kind of subjective based on holiday etc.\n",
    "Thus, we will consider a much simpler (but reasonable) model.\n",
    "\n",
    "Let us consider:\n",
    "\n",
    "$$ w = \\text{S} + \\text{(C * R * n)} $$\n",
    "\n",
    "where\n",
    "<br> S = Starting Amount (How much does the jackpot start at?)\n",
    "<br> C = Ticket Price (How much does each ticket cost?)\n",
    "<br> R = Ticket Ratio (How much of each ticket goes towards the jackpot)\n",
    "<br> n = Number of tickets sold\n",
    "\n",
    "Let us now define some new random variables:\n",
    "\n",
    "$$ Z_1, Z_2, ..., Z_n \\stackrel{iid}{\\sim} Ber(p) $$\n",
    "\n",
    "The motivation of these random variables is that we want to track if ticket i won the jackpot.\n",
    "\n",
    "Let us now further define another random variable:\n",
    "\n",
    "$$Y := Z_1 \\frac{w}{\\sum_{i=1}^nZ_i}$$\n",
    "\n",
    "The motivation behind this random variable is tracking the amount that you would win divided by the number of other people who would win.\n",
    "\n",
    "Finding $\\mathbb{E}[Y]$ is hard because you will likely divide by zero as the denominator is 0 with probability $(1-p)^n$ and $p \\approx 3.3\\mathrm{e}{-9}$ is extremely small. Thus, we will condition on the fact that you did win.\n",
    "\n",
    "Thus, we will assume (without loss of generality) that you own ticket $Z_1$. Let us now compute the expectation of \n",
    "\n",
    "$$ \\mathbb{E}[Y | Z_1 = 1] $$\n",
    "\n",
    "or in other words, assuming you win, what is jackpot amount that you should expect to see?\n",
    "\n",
    "$$ \\mathbb{E}[Y | Z_1 = 1] = \\mathbb{E}\\frac{w}{1 + \\sum_{i=2}^n Z_i} = \\ w \\mathbb{E} \\frac{1}{1 + \\sum_{i=2}^n Z_i} $$\n",
    "\n",
    "Fortunately for us, $\\sum_{i=2}^n \\sim Binom(n-1,p)$ and furthermore, this has a closed form solution according to Chao and Strawdermann [3].\n",
    "\n",
    "$$ w \\mathbb{E} \\frac{1}{1 + \\sum_{i=2}^n Z_i} = w * \\frac{1-(1-p)^n}{np}$$"
   ]
  },
  {
   "cell_type": "code",
   "execution_count": 56,
   "metadata": {},
   "outputs": [
    {
     "name": "stdout",
     "output_type": "stream",
     "text": [
      "With 500,000,000 tickets in play, under our model, the jackpot amount would be $520,000,000.00\n",
      "Expected (raw, untaxed) jackpot winnings with 500,000,000 tickets in play is $254,394,154.40\n",
      "With 40% tax, the expected winnings is $152,636,492.64\n",
      "With 60% tax, the expected winnings is $101,757,661.76\n"
     ]
    }
   ],
   "source": [
    "try:\n",
    "    import numpy as np\n",
    "    numpy_installed = True\n",
    "except ImportError:\n",
    "    numpy_installed:bool = False\n",
    "\n",
    "TICKET_PRICE:float = 2.00\n",
    "TICKET_RATIO:float = 0.5\n",
    "STARTING_AMOUNT:int = 20_000_000\n",
    "\n",
    "num_tickets:int = 500_000_000\n",
    "\n",
    "proba_jackpot:float = pmf[None]\n",
    "\n",
    "new_w:float = STARTING_AMOUNT + TICKET_PRICE * TICKET_RATIO * num_tickets\n",
    "\n",
    "print(f\"With {num_tickets:,} tickets in play, under our model, the jackpot amount would be {cvt_money(new_w)}\")\n",
    "\n",
    "denominator:float = (num_tickets * proba_jackpot)\n",
    "\n",
    "# %timeit (1-proba_jackpot) ** num_tickets\n",
    "# %timeit np.power((1-proba_jackpot),num_tickets)\n",
    "\n",
    "# Use numpy here because it's 3 orders of magnitude faster.\n",
    "if numpy_installed:\n",
    "    numerator:float = new_w * (1 - np.power((1 - proba_jackpot),num_tickets))\n",
    "else:\n",
    "    numerator:float = new_w * (1 - (1-proba_jackpot) ** num_tickets)\n",
    "\n",
    "expected_winning_untaxed:float = numerator / denominator\n",
    "\n",
    "print(f\"Expected (raw, untaxed) jackpot winnings with {num_tickets:,} tickets in play is {cvt_money(expected_winning_untaxed)}\")\n",
    "print(\"With 40% tax, the expected winnings is\",cvt_money(0.6 * numerator / denominator))\n",
    "print(\"With 60% tax, the expected winnings is\",cvt_money(0.4 * numerator / denominator))"
   ]
  },
  {
   "cell_type": "markdown",
   "metadata": {},
   "source": [
    "## Conclusion:\n",
    "Almost all our calculations show that playing Mega Millions is not a good idea due to the extremely low probability of winning, even with assumptions of no tax and a single winner."
   ]
  },
  {
   "cell_type": "markdown",
   "metadata": {},
   "source": [
    "## References:\n",
    "[1] https://www.megamillions.com/\n",
    "<br>[2] https://durangobill.com/MegaMillionsOdds.html\n",
    "<br>[3] https://www.jstor.org/stable/2284399?seq=1\n",
    "<br>[4] https://www.usamega.com/mega-millions/results Retrieved on March 11, 2025"
   ]
  }
 ],
 "metadata": {
  "kernelspec": {
   "display_name": "Python 3",
   "language": "python",
   "name": "python3"
  },
  "language_info": {
   "codemirror_mode": {
    "name": "ipython",
    "version": 3
   },
   "file_extension": ".py",
   "mimetype": "text/x-python",
   "name": "python",
   "nbconvert_exporter": "python",
   "pygments_lexer": "ipython3",
   "version": "3.12.3"
  }
 },
 "nbformat": 4,
 "nbformat_minor": 2
}
